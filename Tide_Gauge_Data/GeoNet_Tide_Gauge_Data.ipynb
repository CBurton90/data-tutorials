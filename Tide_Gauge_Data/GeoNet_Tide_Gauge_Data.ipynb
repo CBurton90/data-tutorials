{
 "cells": [
  {
   "cell_type": "markdown",
   "metadata": {},
   "source": [
    "# <center>Introduction on Using Python to access and analyse GeoNet's Tide Gauge Data"
   ]
  },
  {
   "cell_type": "markdown",
   "metadata": {},
   "source": [
    "In this tutorial we will look at geting waveform data form Tide Gauges. By the end of this notebook you should be able to make a graph like the one below. <img src=\"tide.png\">"
   ]
  },
  {
   "cell_type": "markdown",
   "metadata": {},
   "source": [
    "## Table of Contents"
   ]
  },
  {
   "cell_type": "markdown",
   "metadata": {},
   "source": [
    "### 1. Introduction\n",
    "### 2. Set up\n",
    "### 3. Get the Location of all  Stations with Tide Gauge\n",
    "### 4. Look more at one Station\n",
    "### 5. Get Waveform Data\n",
    "#####  &nbsp; 5. 1 Getting Near real-time waveform data\n",
    "### 6. Save Waveform Data"
   ]
  },
  {
   "cell_type": "markdown",
   "metadata": {},
   "source": [
    "## 1. Introduction"
   ]
  },
  {
   "cell_type": "markdown",
   "metadata": {},
   "source": [
    "In this tutorial we will be learning how to use Python to be able to access the data recorded by GeoNets network of water level sensors’. Then we will look at some ways we can interact with this data in Python. "
   ]
  },
  {
   "cell_type": "markdown",
   "metadata": {},
   "source": [
    "You will need to install the packages obspy (https://github.com/obspy/obspy/wiki) and basemap (https://matplotlib.org/basemap/) useing `pip install (package name)` in the terminal / command prompt"
   ]
  },
  {
   "cell_type": "markdown",
   "metadata": {},
   "source": [
    "This tutorial assumes that you have basic knowledge of Python.\n",
    "We will be using a package called obspy (https://github.com/obspy/obspy/wiki)"
   ]
  },
  {
   "cell_type": "markdown",
   "metadata": {},
   "source": [
    "###### About Geonet tide gauge data"
   ]
  },
  {
   "cell_type": "markdown",
   "metadata": {},
   "source": [
    "Geonet has 3 types of data from tide gauges.\n",
    "<ul>\n",
    "<li>Then raw data of the pressure sensor\n",
    "<li>The data corrected to height\n",
    "<li>The data that has been de-tided \n"
   ]
  },
  {
   "cell_type": "markdown",
   "metadata": {},
   "source": [
    "Geonet also samples at 2 rates. 10 Hz and 1 Hz. The 3 letter channel code tells you all of this.\n",
    "All tide gauges are in the form (B/L)T(Z/H/T)\n",
    "<ul>\n",
    "<li>The first letter is the sample rate. B = 10 Hz and L = 1 Hz, <br>\n",
    "<li>The second letter say that is a water level sensor<br> \n",
    "<li>The third letter say what kind of data it is, Z = raw, H = corrected to height and T = de-tided data <br>\n",
    "\n",
    "For a full list see https://www.geonet.org.nz/data/supplementary/channels "
   ]
  },
  {
   "cell_type": "markdown",
   "metadata": {},
   "source": [
    "## 2. Set Up"
   ]
  },
  {
   "cell_type": "markdown",
   "metadata": {},
   "source": [
    "###### Import obspy"
   ]
  },
  {
   "cell_type": "code",
   "execution_count": null,
   "metadata": {},
   "outputs": [],
   "source": [
    "from obspy.clients.fdsn import Client as FDSNClient # Import a module to retrieve data from FDSN Web Services \n",
    "from obspy import UTCDateTime # Import a module to manage time series format and rename as UTCDateTime\n",
    "from obspy import read_inventory # Imports module to read stattion data"
   ]
  },
  {
   "cell_type": "markdown",
   "metadata": {},
   "source": [
    "For more information on obspy run `help(obspy)`"
   ]
  },
  {
   "cell_type": "code",
   "execution_count": null,
   "metadata": {},
   "outputs": [],
   "source": [
    "#import matplotlib\n",
    "#matplotlib.use('TkAgg')"
   ]
  },
  {
   "cell_type": "markdown",
   "metadata": {},
   "source": [
    "`matplotlib` is the package used to make plots in python. \n",
    "The line `matplotlib.use('TkAgg')` will make all plots open in an interactive window, known as a Tkinter window, so you can zoom in on plots and save them as a png. (The `Tk` is to make it in a Tkinter window and the `Agg` stands for the Anti-Grain Geometry rendering engine that is used to make high-quality images). \n",
    "This is a needed line of code in Python 2 to stop plotting errors but is not need in Python 3."
   ]
  },
  {
   "cell_type": "markdown",
   "metadata": {},
   "source": [
    "###### Set up URL's"
   ]
  },
  {
   "cell_type": "code",
   "execution_count": null,
   "metadata": {},
   "outputs": [],
   "source": [
    "client = FDSNClient(\"GEONET\")\n",
    "clinet_nrt = FDSNClient('https://service-nrt.geonet.org.nz')"
   ]
  },
  {
   "cell_type": "markdown",
   "metadata": {},
   "source": [
    "GeoNet has two FDSN services <br>\n",
    "For waveform data\n",
    "an archive service holds verified data starting 7 days after collection, \n",
    "and a near real-time service holds data that could be incomplete from the last 8 days<br>"
   ]
  },
  {
   "cell_type": "markdown",
   "metadata": {},
   "source": [
    "## 3. Get the Location of all  Stations with Tide Gauges"
   ]
  },
  {
   "cell_type": "markdown",
   "metadata": {},
   "source": [
    "###### Set the start and end time of the data you want to select"
   ]
  },
  {
   "cell_type": "code",
   "execution_count": null,
   "metadata": {},
   "outputs": [],
   "source": [
    "starttime = UTCDateTime(\"2015-03-11T17:00:00.000\") # initial time\n",
    "endtime = UTCDateTime(\"2015-03-12T07:00:00.000\") # end time "
   ]
  },
  {
   "cell_type": "markdown",
   "metadata": {},
   "source": [
    "Note that time must be in UTC (Universal Time Coordinated) which is 13 or 12 hours behind nzt (New Zealand Time) (depending on daylight savings time).  Also Note that GMT or Greenwich mean time is the same time as UTC.\n",
    "    In this case we are looking at the 2011 Tōhoku earthquake and tsunami which happened on the 11 March 2011 at 14:46 JST and if it efected new zeeland it would have done so about 12 hours after it happened. \n",
    "    There are online converters if needed.\n",
    "    You can add to the time in number of seconds eg. `stattime + 60` would be the time 2011-03-11 17:01:00.000<br>"
   ]
  },
  {
   "cell_type": "markdown",
   "metadata": {},
   "source": [
    "###### Get all stations that have a tide gauge"
   ]
  },
  {
   "cell_type": "code",
   "execution_count": null,
   "metadata": {},
   "outputs": [],
   "source": [
    "Inventory = client.get_stations(starttime = starttime,endtime = endtime, channel=\"?T?\" )"
   ]
  },
  {
   "cell_type": "markdown",
   "metadata": {},
   "source": [
    "`get_stations` gets all stations that where running at some point between `starttime` and `endtime` and hold to any other conditions put in the `()`such as channel, station, latitude and longitude with a maxradius<br>\n",
    "All channels with a code in the form (B/L)T(Z/H/T) are tide gauges <br>\n",
    "The ?s say it will look for data with a channel code in the format (any letter)T(any letter) <br>\n",
    "Therefor the code above finds all stations which have a channel code in the format (any letter)T(any letter)<br> "
   ]
  },
  {
   "cell_type": "markdown",
   "metadata": {},
   "source": [
    "###### Print all stations that have a tide gauge"
   ]
  },
  {
   "cell_type": "code",
   "execution_count": null,
   "metadata": {},
   "outputs": [],
   "source": [
    "Inventory"
   ]
  },
  {
   "cell_type": "markdown",
   "metadata": {},
   "source": [
    "###### Plot all stations that have a tide gauge"
   ]
  },
  {
   "cell_type": "code",
   "execution_count": null,
   "metadata": {
    "scrolled": true
   },
   "outputs": [],
   "source": [
    "Inventory.plot(projection=\"local\")"
   ]
  },
  {
   "cell_type": "markdown",
   "metadata": {},
   "source": [
    "`projection=\"local\"` makes a plot that is a map and has all the data points in it. More information can be found at https://matplotlib.org/basemap/"
   ]
  },
  {
   "cell_type": "markdown",
   "metadata": {},
   "source": [
    "## 4. Look more at one Station"
   ]
  },
  {
   "cell_type": "markdown",
   "metadata": {},
   "source": [
    "In this section we will learn how to get more information on a station including the instrument response information."
   ]
  },
  {
   "cell_type": "markdown",
   "metadata": {},
   "source": [
    "###### Get more data on the Raoul Island station"
   ]
  },
  {
   "cell_type": "code",
   "execution_count": null,
   "metadata": {},
   "outputs": [],
   "source": [
    "Raoul_Island = client.get_stations(starttime = starttime,endtime = endtime,station=\"RFRT\", level=\"response\" )"
   ]
  },
  {
   "cell_type": "markdown",
   "metadata": {},
   "source": [
    "Having seen the Raoul Island station on the map and its station code, I can get more data about this station. <br>\n",
    "We can use the parameter `level` to pick the \"level\" of detail in data we want. The “level” of the data is about how much on each station you get. `level=\"response\"` is the  most complete \"level\" of data we can get from `get_stations` and includes the instrument response data.<br>\n",
    "`station=\"RFRT\"` say that the code get data for the station with the station code RBCT<br>"
   ]
  },
  {
   "cell_type": "markdown",
   "metadata": {},
   "source": [
    "###### Print Raoul Island station metadata"
   ]
  },
  {
   "cell_type": "code",
   "execution_count": null,
   "metadata": {},
   "outputs": [],
   "source": [
    "channels = Raoul_Island [0][0]\n",
    "print(channels)"
   ]
  },
  {
   "cell_type": "markdown",
   "metadata": {},
   "source": [
    "Remember the 3 letter channel code.\n",
    "All tide gauges are in the form (B/L)T(Z/H/T)\n",
    "<ul>\n",
    "<li>The first letter is the sample rate. B = 10 Hz and L = 1 Hz, <br>\n",
    "<li>The second letter say that is a water level sensor<br> \n",
    "<li>The third letter say what kind of data it is, Z = raw, H = corrected to height and T = de-tided data <br>\n",
    "</ul>\n",
    "Note that `Raoul_Island [0][0]` says get the first network's first station."
   ]
  },
  {
   "cell_type": "markdown",
   "metadata": {},
   "source": [
    "###### Print Raoul Island Channel metadata including instrument response data for channels at 10Hz"
   ]
  },
  {
   "cell_type": "code",
   "execution_count": null,
   "metadata": {},
   "outputs": [],
   "source": [
    "for i in range (len(channels)): # make a lop over the channels data\n",
    "        if i==1 or i==4 or i==7 : # only print the 3 channel we want to look more into\n",
    "            print(channels[i])\n",
    "            print(channels[i].response)\n",
    "            print(\"\")"
   ]
  },
  {
   "cell_type": "markdown",
   "metadata": {},
   "source": [
    "Note that the 2nd, 5th and 8th channels are printed as the have the channel code in the form BT(Z/H/T)<br> \n",
    "In other words we know these 3 channels are tide gauges that have a sample rate of 10Hz.<br>"
   ]
  },
  {
   "cell_type": "markdown",
   "metadata": {},
   "source": [
    "## 5. Get Waveform Data"
   ]
  },
  {
   "cell_type": "markdown",
   "metadata": {},
   "source": [
    "###### Get Waveform Data from 10Hz Channels"
   ]
  },
  {
   "cell_type": "code",
   "execution_count": null,
   "metadata": {},
   "outputs": [],
   "source": [
    "RFRT= client.get_waveforms('NZ',\"RFRT\", \"40\", \"BT?\", starttime,endtime)"
   ]
  },
  {
   "cell_type": "markdown",
   "metadata": {},
   "source": [
    "The parameters are in the order network, station, location, channel, starttime, and endtime.\n",
    "The ? is a wildcard character for only a single character, so we will get data with channel codes BTH, BTT and BTZ"
   ]
  },
  {
   "cell_type": "markdown",
   "metadata": {},
   "source": [
    "###### Check basic metadata from miniSEED header"
   ]
  },
  {
   "cell_type": "code",
   "execution_count": null,
   "metadata": {},
   "outputs": [],
   "source": [
    "print(RFRT[0].stats)"
   ]
  },
  {
   "cell_type": "markdown",
   "metadata": {},
   "source": [
    "###### Plot this data"
   ]
  },
  {
   "cell_type": "code",
   "execution_count": null,
   "metadata": {},
   "outputs": [],
   "source": [
    "RFRT.plot()"
   ]
  },
  {
   "cell_type": "markdown",
   "metadata": {},
   "source": [
    "Note the differences in the 3 plots and remember the 3rd letter say what kind of data it is, Z = raw, H = corrected to height and T = de-tided data.<br>\n",
    "This can be seen clearly when plotted"
   ]
  },
  {
   "cell_type": "markdown",
   "metadata": {},
   "source": [
    "###### Print what channels we have saved under RFRT"
   ]
  },
  {
   "cell_type": "code",
   "execution_count": null,
   "metadata": {},
   "outputs": [],
   "source": [
    "print(RFRT)"
   ]
  },
  {
   "cell_type": "markdown",
   "metadata": {},
   "source": [
    "Data is in order BTH,BTT,BTZ so is in order data corrected to height, de-tided, then raw data."
   ]
  },
  {
   "cell_type": "markdown",
   "metadata": {},
   "source": [
    "###### Remove instrument response"
   ]
  },
  {
   "cell_type": "code",
   "execution_count": null,
   "metadata": {},
   "outputs": [],
   "source": [
    "RFRT= client.get_waveforms('NZ',\"RFRT\", \"40\", \"BT*\", starttime,endtime, attach_response=True)\n",
    "RFRT.remove_sensitivity()\n",
    "RFRT.plot()"
   ]
  },
  {
   "cell_type": "markdown",
   "metadata": {},
   "source": [
    "###### Split the RFRT data up into its channels"
   ]
  },
  {
   "cell_type": "code",
   "execution_count": null,
   "metadata": {},
   "outputs": [],
   "source": [
    "corrected = RFRT[0]\n",
    "detided = RFRT[1]\n",
    "raw = RFRT[2]"
   ]
  },
  {
   "cell_type": "markdown",
   "metadata": {},
   "source": [
    "## 5. 1 Getting Near real-time waveform data"
   ]
  },
  {
   "cell_type": "markdown",
   "metadata": {},
   "source": [
    "###### Set new start and end time of the data you want to look at"
   ]
  },
  {
   "cell_type": "code",
   "execution_count": null,
   "metadata": {},
   "outputs": [],
   "source": [
    "t1 = UTCDateTime.now()-777600 #9 days ago\n",
    "t2 = UTCDateTime.now()-518400 #6 days ago"
   ]
  },
  {
   "cell_type": "markdown",
   "metadata": {},
   "source": [
    "Note that time must be in UTC (Universal Time Coordinated) which is 13 or 12 hours behind nzt (New Zealand Time) (depending on daylight savings time).\n",
    "There are online converters if needed.\n",
    "`UTCDateTime.now()-777600` say take the time the computer says it is now, convert it to UTC and then takes away 777,600 seconds from it, which is $60$(minutes)$*60$(seconds)$*24$(hours)$*9$(days). "
   ]
  },
  {
   "cell_type": "markdown",
   "metadata": {},
   "source": [
    "###### Try both near real-time and  archive service to get waveform data"
   ]
  },
  {
   "cell_type": "code",
   "execution_count": null,
   "metadata": {},
   "outputs": [],
   "source": [
    "try:\n",
    "    stnrt = clinet_nrt.get_waveforms('NZ',\"RFRT\", \"40\", \"BTH\", t1 , t2)#try near real-time\n",
    "except:\n",
    "    print('nrt client not successful')\n",
    "    \n",
    "try:\n",
    "    starc = client.get_waveforms('NZ',\"RFRT\", \"40\", \"BTH\", t1 , t2)#try achive\n",
    "except:\n",
    "    print('arc client not successful')"
   ]
  },
  {
   "cell_type": "markdown",
   "metadata": {},
   "source": [
    "Remember that GeoNet has two FDSN services <br>\n",
    "An archive service holds verified data starting 7 days after collection<br>\n",
    "A near real-time service holds data that could be incomplete from the last 8 days<br>\n",
    "As The time between 9 and 6 days overlaps this time the code tries to get the data from both services<br>\n"
   ]
  },
  {
   "cell_type": "markdown",
   "metadata": {},
   "source": [
    "###### Merge this data"
   ]
  },
  {
   "cell_type": "code",
   "execution_count": null,
   "metadata": {},
   "outputs": [],
   "source": [
    "st = stnrt #rename near real-time data \n",
    "st += starc #add archive data to this \n",
    "st.merge(fill_value = 'interpolate') #merge this data"
   ]
  },
  {
   "cell_type": "markdown",
   "metadata": {},
   "source": [
    "If data is not merged then it is harder to plot and manipulate. \n",
    "`st += starc` is the same as `st = st + starc`. \n",
    "`fill_value = 'interpolate'` says that if there is a missing value then it will be filled with a \"best guess\" data point by looking at the two data points next to it. "
   ]
  },
  {
   "cell_type": "markdown",
   "metadata": {},
   "source": [
    "###### Plot this data"
   ]
  },
  {
   "cell_type": "code",
   "execution_count": null,
   "metadata": {},
   "outputs": [],
   "source": [
    "st.plot()"
   ]
  },
  {
   "cell_type": "markdown",
   "metadata": {},
   "source": [
    "###### Trim this data"
   ]
  },
  {
   "cell_type": "code",
   "execution_count": null,
   "metadata": {},
   "outputs": [],
   "source": [
    "t = UTCDateTime.now()-604800 #7 days ago\n",
    "st.trim(t,t+86400)"
   ]
  },
  {
   "cell_type": "markdown",
   "metadata": {},
   "source": [
    "`st.trim` is used to \"zoom in\" on part of the data that you already have. <br>\n",
    "In this example the code is looking at data from 7 days after now till 8 days after now ($60$(minutes)$*60$(seconds)$*24$(hours)$*7$(days)$= 604800$ and $60$(minutes)$*60$(seconds)$*24$(hours)$= 86400$ or 1 day)\n"
   ]
  },
  {
   "cell_type": "markdown",
   "metadata": {},
   "source": [
    "###### Plot the trimmed data"
   ]
  },
  {
   "cell_type": "code",
   "execution_count": null,
   "metadata": {},
   "outputs": [],
   "source": [
    "st.plot()"
   ]
  },
  {
   "cell_type": "markdown",
   "metadata": {},
   "source": [
    "## 6. Save Waveform Data"
   ]
  },
  {
   "cell_type": "markdown",
   "metadata": {},
   "source": [
    "###### Save this data"
   ]
  },
  {
   "cell_type": "code",
   "execution_count": null,
   "metadata": {},
   "outputs": [],
   "source": [
    "corrected.write('corrected.csv', format='TSPAIR')\n",
    "detided.write('detided.csv', format='TSPAIR')\n",
    "raw.write('raw.csv', format='TSPAIR')"
   ]
  },
  {
   "cell_type": "markdown",
   "metadata": {},
   "source": [
    "Files are save into the samed folder that this notebook is in. <br>\n",
    "Files are saved in .csv format to be able to opened by most spreadsheet soft wear.<br>\n",
    "`format = 'TSPAIR'` makes the data into a two column list of time and the sample values <br>\n",
    "For more information on this you can go to http://ds.iris.edu/ds/nodes/dmc/data/formats/simple-ascii/"
   ]
  }
 ],
 "metadata": {
  "kernelspec": {
   "display_name": "Python 3",
   "language": "python",
   "name": "python3"
  },
  "language_info": {
   "codemirror_mode": {
    "name": "ipython",
    "version": 3
   },
   "file_extension": ".py",
   "mimetype": "text/x-python",
   "name": "python",
   "nbconvert_exporter": "python",
   "pygments_lexer": "ipython3",
   "version": "3.7.6"
  }
 },
 "nbformat": 4,
 "nbformat_minor": 2
}
